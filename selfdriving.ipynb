{
 "cells": [
  {
   "cell_type": "code",
   "execution_count": 22,
   "metadata": {},
   "outputs": [],
   "source": [
    "import cv2\n",
    "import numpy as np\n",
    "import glob"
   ]
  },
  {
   "cell_type": "code",
   "execution_count": 2,
   "metadata": {},
   "outputs": [],
   "source": [
    "import matplotlib.pyplot as plt"
   ]
  },
  {
   "cell_type": "code",
   "execution_count": 3,
   "metadata": {},
   "outputs": [],
   "source": [
    "from keras.models import load_model"
   ]
  },
  {
   "cell_type": "code",
   "execution_count": 4,
   "metadata": {},
   "outputs": [],
   "source": [
    "smoothed_angle = 0"
   ]
  },
  {
   "cell_type": "code",
   "execution_count": 33,
   "metadata": {},
   "outputs": [],
   "source": [
    "path_images = 'E:/UNI/MCC Proc Imagenes/images/image_03/data/*.png'\n",
    "#path_images = 'E:/UNI/MCC Proc Imagenes/Trabajo final/gg2/*.jpg'\n",
    "steering_wheel_path = 'steering_wheel_mercedes.png'"
   ]
  },
  {
   "cell_type": "code",
   "execution_count": 34,
   "metadata": {},
   "outputs": [],
   "source": [
    "steering_wheel_img = cv2.imread(steering_wheel_path)"
   ]
  },
  {
   "cell_type": "code",
   "execution_count": 54,
   "metadata": {},
   "outputs": [],
   "source": [
    "model = load_model('model_propuesto.h5')"
   ]
  },
  {
   "cell_type": "code",
   "execution_count": 10,
   "metadata": {},
   "outputs": [],
   "source": [
    "WIDTH = 100\n",
    "HEIGHT = 100"
   ]
  },
  {
   "cell_type": "code",
   "execution_count": 11,
   "metadata": {},
   "outputs": [],
   "source": [
    "def load_image(filename):\n",
    "    image = cv2.imread(filename)\n",
    "    return image"
   ]
  },
  {
   "cell_type": "code",
   "execution_count": 12,
   "metadata": {},
   "outputs": [],
   "source": [
    "def process_image(image):\n",
    "    processed = cv2.resize(image, dsize=(WIDTH,HEIGHT))\n",
    "    processed = cv2.cvtColor(processed, cv2.COLOR_BGR2GRAY)\n",
    "    processed = np.array(processed)\n",
    "    processed = processed.astype('float32')\n",
    "    mean = processed.mean()\n",
    "    std = processed.std()\n",
    "    processed = (processed - mean) / std \n",
    "    return np.reshape(processed, (-1, WIDTH, HEIGHT, 1))"
   ]
  },
  {
   "cell_type": "code",
   "execution_count": 21,
   "metadata": {},
   "outputs": [],
   "source": [
    "def predict_angle(filename):\n",
    "    image = load_image(filename)\n",
    "    processed = process_image(image)\n",
    "    angle_predict = model.predict(processed)[0][0] * 180 / 3.14159\n",
    "    return image, angle_predict\n"
   ]
  },
  {
   "cell_type": "code",
   "execution_count": 55,
   "metadata": {},
   "outputs": [],
   "source": [
    "iamges_predicted = []"
   ]
  },
  {
   "cell_type": "code",
   "execution_count": 56,
   "metadata": {},
   "outputs": [],
   "source": [
    "for filename in glob.glob(path_images):\n",
    "    image, angle_predict = predict_angle(filename)\n",
    "    \n",
    "    rows,cols,channels = steering_wheel_img.shape\n",
    "    \n",
    "    rows_image,cols_image,channels_image = image.shape\n",
    "    \n",
    "    scale_percent = cols / cols_image  * 10.0 \n",
    "    \n",
    "        \n",
    "    w = int(cols_image * scale_percent / 100)\n",
    "    h = int(rows_image * scale_percent / 100)\n",
    "    dim = (w, h)\n",
    "    \n",
    "    resized = cv2.resize(steering_wheel_img, dim, interpolation = cv2.INTER_AREA)\n",
    "\n",
    "    roi = image[0:rows, 0:cols]\n",
    "    steering_angle = angle_predict\n",
    "    smoothed_angle += 0.2 * pow(abs((steering_angle - smoothed_angle)), 2.0 / 3.0) * (\n",
    "            steering_angle - smoothed_angle) / abs(\n",
    "            steering_angle - smoothed_angle)\n",
    "    M = cv2.getRotationMatrix2D((cols / 2, rows / 2), -smoothed_angle, 1)\n",
    "    steering_wheel_img_rotate = cv2.warpAffine(steering_wheel_img, M, (cols, rows))\n",
    "\n",
    "\n",
    "    steering_wheel_img_rotate_gray = cv2.cvtColor(steering_wheel_img_rotate,cv2.COLOR_BGR2GRAY)\n",
    "    ret, mask = cv2.threshold(steering_wheel_img_rotate_gray, 10, 255, cv2.THRESH_BINARY)\n",
    "    mask_inv = cv2.bitwise_not(mask)\n",
    "    image_bg = cv2.bitwise_and(roi,roi,mask = mask_inv)\n",
    "\n",
    "    steering_wheel_img_rotate_fg = cv2.bitwise_and(steering_wheel_img_rotate,steering_wheel_img_rotate,mask = mask)\n",
    "    dst = cv2.add(image_bg,steering_wheel_img_rotate_fg)\n",
    "    image[0:rows, 0:cols ] = dst\n",
    "    height, width, layers = image.shape\n",
    "    size = (width,height)\n",
    "    iamges_predicted.append(image)    \n",
    "    "
   ]
  },
  {
   "cell_type": "code",
   "execution_count": 57,
   "metadata": {},
   "outputs": [],
   "source": [
    "out = cv2.VideoWriter('project.avi',cv2.VideoWriter_fourcc(*'DIVX'), 15, size)\n",
    " \n",
    "for i in range(len(iamges_predicted)):\n",
    "    out.write(iamges_predicted[i])\n",
    "out.release()"
   ]
  },
  {
   "cell_type": "code",
   "execution_count": 140,
   "metadata": {},
   "outputs": [
    {
     "data": {
      "text/plain": [
       "396"
      ]
     },
     "execution_count": 140,
     "metadata": {},
     "output_type": "execute_result"
    }
   ],
   "source": [
    "len(iamges_predicted)"
   ]
  },
  {
   "cell_type": "code",
   "execution_count": null,
   "metadata": {},
   "outputs": [],
   "source": []
  }
 ],
 "metadata": {
  "kernelspec": {
   "display_name": "Python 3",
   "language": "python",
   "name": "python3"
  },
  "language_info": {
   "codemirror_mode": {
    "name": "ipython",
    "version": 3
   },
   "file_extension": ".py",
   "mimetype": "text/x-python",
   "name": "python",
   "nbconvert_exporter": "python",
   "pygments_lexer": "ipython3",
   "version": "3.8.3"
  }
 },
 "nbformat": 4,
 "nbformat_minor": 4
}
